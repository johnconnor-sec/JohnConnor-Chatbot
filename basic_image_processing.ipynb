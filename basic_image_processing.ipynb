{
 "cells": [
  {
   "cell_type": "markdown",
   "metadata": {},
   "source": [
    "# Basic Image Processing\n",
    "I had a bit of trouble getting this to work the first time. When encoding the image to base64, we need to use `decode('utf-8')`. This is needs to be appended to `base64.b64encode(image_file.read())` for the upload to work and not within `image_file.read()`.\n",
    "\n",
    "I.E. Do NOT do `base64.b64encode(image_file.read().decode('utf-8'))`, \n",
    "instead do `base64.b64encode(image_file.read()).decode('utf-8')`."
   ]
  },
  {
   "cell_type": "markdown",
   "metadata": {},
   "source": [
    "### Importing Necessary Libraries"
   ]
  },
  {
   "cell_type": "code",
   "execution_count": 40,
   "metadata": {},
   "outputs": [],
   "source": [
    "from openai import OpenAI\n",
    "from IPython.display import Image, display, Audio, Markdown\n",
    "import base64"
   ]
  },
  {
   "cell_type": "markdown",
   "metadata": {},
   "source": [
    "### Initializing OpenAI Client"
   ]
  },
  {
   "cell_type": "code",
   "execution_count": 41,
   "metadata": {},
   "outputs": [],
   "source": [
    "client = OpenAI()"
   ]
  },
  {
   "cell_type": "markdown",
   "metadata": {},
   "source": [
    "### Defining the Image Path"
   ]
  },
  {
   "cell_type": "code",
   "execution_count": null,
   "metadata": {},
   "outputs": [],
   "source": [
    "# When running this, make sure to have an \"images\" folder where your images are stored.\n",
    "IMAGE_PATH = \"images/2024-06-27_23-01.png\"\n",
    "\n",
    "# Preview image for context\n",
    "display(Image(IMAGE_PATH)) # I don't think I'll need to do this for my use case."
   ]
  },
  {
   "cell_type": "markdown",
   "metadata": {},
   "source": [
    "## Base64 Image Processing"
   ]
  },
  {
   "cell_type": "markdown",
   "metadata": {},
   "source": [
    "### Open the image file and encode it as a base64 string\n",
    "We define a function called `encode_image` and include the `image_path` parameter to be accepted. We open the `image_path` and read the binary, `\"rb\"`, `image_file` and load it into the `base64_image` variable."
   ]
  },
  {
   "cell_type": "code",
   "execution_count": 43,
   "metadata": {},
   "outputs": [],
   "source": [
    "def encode_image(image_path):\n",
    "    \"\"\"Encodes an image file to base64\"\"\"\n",
    "    with open(image_path, \"rb\") as image_file:\n",
    "        return base64.b64encode(image_file.read()).decode(\"utf-8\")\n",
    "    \n",
    "base64_image = encode_image(IMAGE_PATH)"
   ]
  },
  {
   "cell_type": "markdown",
   "metadata": {},
   "source": [
    "### Initiate the `client.chat.completions.create()` Method\n",
    "This is a lot like the basic_text_completion.ipynb file, but this time we are passing the `user` prompt and `base64_image` inside the messages variable. The `user` message is passed first, followed by the image, which we encoded above.  "
   ]
  },
  {
   "cell_type": "code",
   "execution_count": 44,
   "metadata": {},
   "outputs": [],
   "source": [
    "response = client.chat.completions.create(\n",
    "    model=\"gpt-4o\",\n",
    "    messages=[\n",
    "        {\"role\": \"system\", \"content\": \"You are an expert computer scientist and coder here to help with coding tasks\"},\n",
    "        {\"role\": \"user\", \"content\": [\n",
    "            {\"type\": \"text\", \"text\": \"What is the coding language being used?\"},\n",
    "            {\"type\": \"image_url\", \"image_url\": {\n",
    "                \"url\": f\"data:image/png;base64,{base64_image}\"}\n",
    "            }\n",
    "        ]}\n",
    "    ],\n",
    "    temperature=0.1,\n",
    ")"
   ]
  },
  {
   "cell_type": "markdown",
   "metadata": {},
   "source": [
    "### Printing the Response"
   ]
  },
  {
   "cell_type": "code",
   "execution_count": 45,
   "metadata": {},
   "outputs": [
    {
     "name": "stdout",
     "output_type": "stream",
     "text": [
      "The coding language being used in the image is Python. This can be identified by the syntax and file extensions such as `.py` and `.ipynb`.\n"
     ]
    }
   ],
   "source": [
    "print(response.choices[0].message.content)"
   ]
  },
  {
   "cell_type": "markdown",
   "metadata": {},
   "source": [
    "## Questions:\n",
    "- How can I implement my `flameon` tool to take screenshots and load them into the `IMAGE_PATH`?"
   ]
  }
 ],
 "metadata": {
  "kernelspec": {
   "display_name": "Python 3 (ipykernel)",
   "language": "python",
   "name": "python3"
  }
 },
 "nbformat": 4,
 "nbformat_minor": 2
}
