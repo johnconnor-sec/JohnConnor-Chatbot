{
 "cells": [
  {
   "cell_type": "markdown",
   "metadata": {},
   "source": [
    "# Basic Text Completion\n",
    "This is the most basic python program to interact with OpenAI by sending a preloaded system and user message."
   ]
  },
  {
   "cell_type": "markdown",
   "metadata": {},
   "source": [
    "### OpenAI library Installation\n",
    "We provide a Python library, which you can install by running:"
   ]
  },
  {
   "cell_type": "code",
   "execution_count": null,
   "metadata": {},
   "outputs": [],
   "source": [
    "pip install openai"
   ]
  },
  {
   "cell_type": "markdown",
   "metadata": {},
   "source": [
    "### Importing OS for API key"
   ]
  },
  {
   "cell_type": "code",
   "execution_count": 2,
   "metadata": {},
   "outputs": [],
   "source": [
    "from openai import OpenAI\n",
    "import os"
   ]
  },
  {
   "cell_type": "markdown",
   "metadata": {},
   "source": [
    "Once installed, you can use the library and your secret key to run the following:"
   ]
  },
  {
   "cell_type": "markdown",
   "metadata": {},
   "source": [
    "### Initializing Client\n",
    "If we have a `.env` file with our `OPENAI_API_KEY` within it, we do not need to pass `api_key=os.environ.get(\"OPENAI_API_KEY\")` within `client = OpenAI()` as the `client = OpenAI()` variable defaults to `api_key=os.environ.get(\"OPENAI_API_KEY\")`."
   ]
  },
  {
   "cell_type": "code",
   "execution_count": 3,
   "metadata": {},
   "outputs": [],
   "source": [
    "# Defaults to `os.environ.get(\"OPENAI_API_KEY\")`\n",
    "client = OpenAI()\n",
    "# We can set the model here too if we like\n",
    "# MODEL=\"gpt-4o\""
   ]
  },
  {
   "cell_type": "markdown",
   "metadata": {},
   "source": [
    "### Using the client.chat.completions.create Method\n",
    "In order to **successfully** run `chat.completions.create` we need to pass both a `\"system\"` and a `\"user\"` role in the messages. Otherwise we will get an error when call the response with `choices[0].message.content`."
   ]
  },
  {
   "cell_type": "code",
   "execution_count": 4,
   "metadata": {},
   "outputs": [],
   "source": [
    "\n",
    "\n",
    "response = client.chat.completions.create(\n",
    "    model=\"gpt-4o\",\n",
    "    # model=MODEL,\n",
    "    messages=[\n",
    "        {\"role\": \"system\", \"content\": \"Say this is a test\"},\n",
    "        {\"role\": \"user\", \"content\": \"Test\"}\n",
    "    ]\n",
    ")"
   ]
  },
  {
   "cell_type": "markdown",
   "metadata": {},
   "source": [
    "From what I can tell the `\"system\"` role is labeled as `[0]` and is what is being returned + what when included in the user content. This is because it is the first of the messages in the chat completion... I'm assuming"
   ]
  },
  {
   "cell_type": "markdown",
   "metadata": {},
   "source": [
    "### Print the Response\n",
    "We can print the `response` variable, or whatever we have named the `client.chat.completions.create()`, using the below code. It assigns the result of the `client.chat.completions.create()` method call to the variable `response`."
   ]
  },
  {
   "cell_type": "code",
   "execution_count": 5,
   "metadata": {},
   "outputs": [
    {
     "name": "stdout",
     "output_type": "stream",
     "text": [
      "Assistant: This is a test. How can I assist you further?\n"
     ]
    }
   ],
   "source": [
    "print(\"Assistant: \" + response.choices[0].message.content)"
   ]
  },
  {
   "cell_type": "markdown",
   "metadata": {},
   "source": [
    "With this we can prompt the model with a system message and have it respond to the user message within the code. "
   ]
  },
  {
   "cell_type": "markdown",
   "metadata": {},
   "source": [
    "## Questions:\n",
    "How can the user input their queries without going into the code and changing their prompt for every new query?"
   ]
  }
 ],
 "metadata": {
  "kernelspec": {
   "display_name": "Python 3 (ipykernel)",
   "language": "python",
   "name": "python3"
  }
 },
 "nbformat": 4,
 "nbformat_minor": 2
}
